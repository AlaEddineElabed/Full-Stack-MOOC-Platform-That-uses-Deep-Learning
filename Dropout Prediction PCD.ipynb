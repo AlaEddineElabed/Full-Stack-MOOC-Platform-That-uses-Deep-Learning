{
 "cells": [
  {
   "cell_type": "markdown",
   "id": "c31632db",
   "metadata": {},
   "source": [
    "# Data Preprocessing\n",
    "Column Description\n",
    "\n",
    "course_id: the course identifier.\n",
    "userid_DI: the user identifier.\n",
    "registered: whether the user registered for the course.\n",
    "viewed: anyone who accessed the 'Courseware tab' in the edX platform.\n",
    "explored: anyone who accessed at least half of the chapters in the courseware.\n",
    "certified: anyone who earned a certificate.\n",
    "final_cc_cname_DI: country name or continent/region name.\n",
    "LoE: highest level of education.\n",
    "YoB: year of birth.\n",
    "gender: male, female, or other.\n",
    "grade: final grade in the course.\n",
    "start_time_DI: date of course registration\n",
    "last_event_DI: date of last interaction in course. Blank if none beyond registration.\n",
    "nevents: number of interactions with the course (blank if done beyond registration).\n",
    "ndays_act: number of unique days student interacted with the course.\n",
    "nplay_video: number of play video events.\n",
    "nchapters: number of chapters within the Courseware with which the students interacted.\n",
    "nforum_posts: number of posts to the discussion forum.\n",
    "roles: identifies staff and instructors.\n",
    "incomplete flag: identifies records that are internally inconsistent. This includes missing tracking logs.\n"
   ]
  },
  {
   "cell_type": "code",
   "execution_count": 1,
   "id": "e78b486b",
   "metadata": {},
   "outputs": [],
   "source": [
    "import pandas as pd\n",
    "import numpy as np\n",
    "import matplotlib.pyplot as plt\n",
    "import seaborn as sns\n",
    "from sklearn.ensemble import RandomForestClassifier\n",
    "from sklearn.model_selection import train_test_split\n",
    "from sklearn.metrics import accuracy_score, confusion_matrix, classification_report, ConfusionMatrixDisplay"
   ]
  },
  {
   "cell_type": "code",
   "execution_count": 2,
   "id": "359af36d",
   "metadata": {},
   "outputs": [],
   "source": [
    "# Load files\n",
    "data1 = pd.read_csv('data/HMXPC13_DI_v2_5-14-14.csv')\n",
    "#data2 = pd.read_csv('data/modeling_data.csv')\n",
    "#data3 = pd.read_csv('data/visualize.csv')"
   ]
  },
  {
   "cell_type": "code",
   "execution_count": 3,
   "id": "eace53bd",
   "metadata": {},
   "outputs": [
    {
     "data": {
      "text/html": [
       "<div>\n",
       "<style scoped>\n",
       "    .dataframe tbody tr th:only-of-type {\n",
       "        vertical-align: middle;\n",
       "    }\n",
       "\n",
       "    .dataframe tbody tr th {\n",
       "        vertical-align: top;\n",
       "    }\n",
       "\n",
       "    .dataframe thead th {\n",
       "        text-align: right;\n",
       "    }\n",
       "</style>\n",
       "<table border=\"1\" class=\"dataframe\">\n",
       "  <thead>\n",
       "    <tr style=\"text-align: right;\">\n",
       "      <th></th>\n",
       "      <th>course_id</th>\n",
       "      <th>userid_DI</th>\n",
       "      <th>registered</th>\n",
       "      <th>viewed</th>\n",
       "      <th>explored</th>\n",
       "      <th>certified</th>\n",
       "      <th>final_cc_cname_DI</th>\n",
       "      <th>LoE_DI</th>\n",
       "      <th>YoB</th>\n",
       "      <th>gender</th>\n",
       "      <th>grade</th>\n",
       "      <th>start_time_DI</th>\n",
       "      <th>last_event_DI</th>\n",
       "      <th>nevents</th>\n",
       "      <th>ndays_act</th>\n",
       "      <th>nplay_video</th>\n",
       "      <th>nchapters</th>\n",
       "      <th>nforum_posts</th>\n",
       "      <th>roles</th>\n",
       "      <th>incomplete_flag</th>\n",
       "    </tr>\n",
       "  </thead>\n",
       "  <tbody>\n",
       "    <tr>\n",
       "      <th>0</th>\n",
       "      <td>HarvardX/CB22x/2013_Spring</td>\n",
       "      <td>MHxPC130442623</td>\n",
       "      <td>1</td>\n",
       "      <td>0</td>\n",
       "      <td>0</td>\n",
       "      <td>0</td>\n",
       "      <td>United States</td>\n",
       "      <td>NaN</td>\n",
       "      <td>NaN</td>\n",
       "      <td>NaN</td>\n",
       "      <td>0</td>\n",
       "      <td>2012-12-19</td>\n",
       "      <td>2013-11-17</td>\n",
       "      <td>NaN</td>\n",
       "      <td>9.0</td>\n",
       "      <td>NaN</td>\n",
       "      <td>NaN</td>\n",
       "      <td>0</td>\n",
       "      <td>NaN</td>\n",
       "      <td>1.0</td>\n",
       "    </tr>\n",
       "    <tr>\n",
       "      <th>1</th>\n",
       "      <td>HarvardX/CS50x/2012</td>\n",
       "      <td>MHxPC130442623</td>\n",
       "      <td>1</td>\n",
       "      <td>1</td>\n",
       "      <td>0</td>\n",
       "      <td>0</td>\n",
       "      <td>United States</td>\n",
       "      <td>NaN</td>\n",
       "      <td>NaN</td>\n",
       "      <td>NaN</td>\n",
       "      <td>0</td>\n",
       "      <td>2012-10-15</td>\n",
       "      <td>NaN</td>\n",
       "      <td>NaN</td>\n",
       "      <td>9.0</td>\n",
       "      <td>NaN</td>\n",
       "      <td>1.0</td>\n",
       "      <td>0</td>\n",
       "      <td>NaN</td>\n",
       "      <td>1.0</td>\n",
       "    </tr>\n",
       "    <tr>\n",
       "      <th>2</th>\n",
       "      <td>HarvardX/CB22x/2013_Spring</td>\n",
       "      <td>MHxPC130275857</td>\n",
       "      <td>1</td>\n",
       "      <td>0</td>\n",
       "      <td>0</td>\n",
       "      <td>0</td>\n",
       "      <td>United States</td>\n",
       "      <td>NaN</td>\n",
       "      <td>NaN</td>\n",
       "      <td>NaN</td>\n",
       "      <td>0</td>\n",
       "      <td>2013-02-08</td>\n",
       "      <td>2013-11-17</td>\n",
       "      <td>NaN</td>\n",
       "      <td>16.0</td>\n",
       "      <td>NaN</td>\n",
       "      <td>NaN</td>\n",
       "      <td>0</td>\n",
       "      <td>NaN</td>\n",
       "      <td>1.0</td>\n",
       "    </tr>\n",
       "    <tr>\n",
       "      <th>3</th>\n",
       "      <td>HarvardX/CS50x/2012</td>\n",
       "      <td>MHxPC130275857</td>\n",
       "      <td>1</td>\n",
       "      <td>0</td>\n",
       "      <td>0</td>\n",
       "      <td>0</td>\n",
       "      <td>United States</td>\n",
       "      <td>NaN</td>\n",
       "      <td>NaN</td>\n",
       "      <td>NaN</td>\n",
       "      <td>0</td>\n",
       "      <td>2012-09-17</td>\n",
       "      <td>NaN</td>\n",
       "      <td>NaN</td>\n",
       "      <td>16.0</td>\n",
       "      <td>NaN</td>\n",
       "      <td>NaN</td>\n",
       "      <td>0</td>\n",
       "      <td>NaN</td>\n",
       "      <td>1.0</td>\n",
       "    </tr>\n",
       "    <tr>\n",
       "      <th>4</th>\n",
       "      <td>HarvardX/ER22x/2013_Spring</td>\n",
       "      <td>MHxPC130275857</td>\n",
       "      <td>1</td>\n",
       "      <td>0</td>\n",
       "      <td>0</td>\n",
       "      <td>0</td>\n",
       "      <td>United States</td>\n",
       "      <td>NaN</td>\n",
       "      <td>NaN</td>\n",
       "      <td>NaN</td>\n",
       "      <td>0</td>\n",
       "      <td>2012-12-19</td>\n",
       "      <td>NaN</td>\n",
       "      <td>NaN</td>\n",
       "      <td>16.0</td>\n",
       "      <td>NaN</td>\n",
       "      <td>NaN</td>\n",
       "      <td>0</td>\n",
       "      <td>NaN</td>\n",
       "      <td>1.0</td>\n",
       "    </tr>\n",
       "    <tr>\n",
       "      <th>...</th>\n",
       "      <td>...</td>\n",
       "      <td>...</td>\n",
       "      <td>...</td>\n",
       "      <td>...</td>\n",
       "      <td>...</td>\n",
       "      <td>...</td>\n",
       "      <td>...</td>\n",
       "      <td>...</td>\n",
       "      <td>...</td>\n",
       "      <td>...</td>\n",
       "      <td>...</td>\n",
       "      <td>...</td>\n",
       "      <td>...</td>\n",
       "      <td>...</td>\n",
       "      <td>...</td>\n",
       "      <td>...</td>\n",
       "      <td>...</td>\n",
       "      <td>...</td>\n",
       "      <td>...</td>\n",
       "      <td>...</td>\n",
       "    </tr>\n",
       "    <tr>\n",
       "      <th>641133</th>\n",
       "      <td>MITx/6.00x/2013_Spring</td>\n",
       "      <td>MHxPC130184108</td>\n",
       "      <td>1</td>\n",
       "      <td>1</td>\n",
       "      <td>0</td>\n",
       "      <td>0</td>\n",
       "      <td>Canada</td>\n",
       "      <td>Bachelor's</td>\n",
       "      <td>1991.0</td>\n",
       "      <td>m</td>\n",
       "      <td>NaN</td>\n",
       "      <td>2013-09-07</td>\n",
       "      <td>2013-09-07</td>\n",
       "      <td>97.0</td>\n",
       "      <td>1.0</td>\n",
       "      <td>4.0</td>\n",
       "      <td>2.0</td>\n",
       "      <td>0</td>\n",
       "      <td>NaN</td>\n",
       "      <td>NaN</td>\n",
       "    </tr>\n",
       "    <tr>\n",
       "      <th>641134</th>\n",
       "      <td>MITx/6.00x/2013_Spring</td>\n",
       "      <td>MHxPC130359782</td>\n",
       "      <td>1</td>\n",
       "      <td>0</td>\n",
       "      <td>0</td>\n",
       "      <td>0</td>\n",
       "      <td>Other Europe</td>\n",
       "      <td>Bachelor's</td>\n",
       "      <td>1991.0</td>\n",
       "      <td>f</td>\n",
       "      <td>NaN</td>\n",
       "      <td>2013-09-07</td>\n",
       "      <td>2013-09-07</td>\n",
       "      <td>1.0</td>\n",
       "      <td>1.0</td>\n",
       "      <td>NaN</td>\n",
       "      <td>NaN</td>\n",
       "      <td>0</td>\n",
       "      <td>NaN</td>\n",
       "      <td>NaN</td>\n",
       "    </tr>\n",
       "    <tr>\n",
       "      <th>641135</th>\n",
       "      <td>MITx/6.002x/2013_Spring</td>\n",
       "      <td>MHxPC130098513</td>\n",
       "      <td>1</td>\n",
       "      <td>0</td>\n",
       "      <td>0</td>\n",
       "      <td>0</td>\n",
       "      <td>United States</td>\n",
       "      <td>Doctorate</td>\n",
       "      <td>1979.0</td>\n",
       "      <td>m</td>\n",
       "      <td>NaN</td>\n",
       "      <td>2013-09-07</td>\n",
       "      <td>2013-09-07</td>\n",
       "      <td>1.0</td>\n",
       "      <td>1.0</td>\n",
       "      <td>NaN</td>\n",
       "      <td>NaN</td>\n",
       "      <td>0</td>\n",
       "      <td>NaN</td>\n",
       "      <td>NaN</td>\n",
       "    </tr>\n",
       "    <tr>\n",
       "      <th>641136</th>\n",
       "      <td>MITx/6.00x/2013_Spring</td>\n",
       "      <td>MHxPC130098513</td>\n",
       "      <td>1</td>\n",
       "      <td>1</td>\n",
       "      <td>0</td>\n",
       "      <td>0</td>\n",
       "      <td>United States</td>\n",
       "      <td>Doctorate</td>\n",
       "      <td>1979.0</td>\n",
       "      <td>m</td>\n",
       "      <td>NaN</td>\n",
       "      <td>2013-09-07</td>\n",
       "      <td>2013-09-07</td>\n",
       "      <td>74.0</td>\n",
       "      <td>1.0</td>\n",
       "      <td>14.0</td>\n",
       "      <td>1.0</td>\n",
       "      <td>0</td>\n",
       "      <td>NaN</td>\n",
       "      <td>NaN</td>\n",
       "    </tr>\n",
       "    <tr>\n",
       "      <th>641137</th>\n",
       "      <td>MITx/8.02x/2013_Spring</td>\n",
       "      <td>MHxPC130098513</td>\n",
       "      <td>1</td>\n",
       "      <td>0</td>\n",
       "      <td>0</td>\n",
       "      <td>0</td>\n",
       "      <td>United States</td>\n",
       "      <td>Doctorate</td>\n",
       "      <td>1979.0</td>\n",
       "      <td>m</td>\n",
       "      <td>NaN</td>\n",
       "      <td>2013-09-07</td>\n",
       "      <td>NaN</td>\n",
       "      <td>NaN</td>\n",
       "      <td>1.0</td>\n",
       "      <td>NaN</td>\n",
       "      <td>NaN</td>\n",
       "      <td>0</td>\n",
       "      <td>NaN</td>\n",
       "      <td>1.0</td>\n",
       "    </tr>\n",
       "  </tbody>\n",
       "</table>\n",
       "<p>641138 rows × 20 columns</p>\n",
       "</div>"
      ],
      "text/plain": [
       "                         course_id       userid_DI  registered  viewed  \\\n",
       "0       HarvardX/CB22x/2013_Spring  MHxPC130442623           1       0   \n",
       "1              HarvardX/CS50x/2012  MHxPC130442623           1       1   \n",
       "2       HarvardX/CB22x/2013_Spring  MHxPC130275857           1       0   \n",
       "3              HarvardX/CS50x/2012  MHxPC130275857           1       0   \n",
       "4       HarvardX/ER22x/2013_Spring  MHxPC130275857           1       0   \n",
       "...                            ...             ...         ...     ...   \n",
       "641133      MITx/6.00x/2013_Spring  MHxPC130184108           1       1   \n",
       "641134      MITx/6.00x/2013_Spring  MHxPC130359782           1       0   \n",
       "641135     MITx/6.002x/2013_Spring  MHxPC130098513           1       0   \n",
       "641136      MITx/6.00x/2013_Spring  MHxPC130098513           1       1   \n",
       "641137      MITx/8.02x/2013_Spring  MHxPC130098513           1       0   \n",
       "\n",
       "        explored  certified final_cc_cname_DI      LoE_DI     YoB gender  \\\n",
       "0              0          0     United States         NaN     NaN    NaN   \n",
       "1              0          0     United States         NaN     NaN    NaN   \n",
       "2              0          0     United States         NaN     NaN    NaN   \n",
       "3              0          0     United States         NaN     NaN    NaN   \n",
       "4              0          0     United States         NaN     NaN    NaN   \n",
       "...          ...        ...               ...         ...     ...    ...   \n",
       "641133         0          0            Canada  Bachelor's  1991.0      m   \n",
       "641134         0          0      Other Europe  Bachelor's  1991.0      f   \n",
       "641135         0          0     United States   Doctorate  1979.0      m   \n",
       "641136         0          0     United States   Doctorate  1979.0      m   \n",
       "641137         0          0     United States   Doctorate  1979.0      m   \n",
       "\n",
       "       grade start_time_DI last_event_DI  nevents  ndays_act  nplay_video  \\\n",
       "0          0    2012-12-19    2013-11-17      NaN        9.0          NaN   \n",
       "1          0    2012-10-15           NaN      NaN        9.0          NaN   \n",
       "2          0    2013-02-08    2013-11-17      NaN       16.0          NaN   \n",
       "3          0    2012-09-17           NaN      NaN       16.0          NaN   \n",
       "4          0    2012-12-19           NaN      NaN       16.0          NaN   \n",
       "...      ...           ...           ...      ...        ...          ...   \n",
       "641133   NaN    2013-09-07    2013-09-07     97.0        1.0          4.0   \n",
       "641134   NaN    2013-09-07    2013-09-07      1.0        1.0          NaN   \n",
       "641135   NaN    2013-09-07    2013-09-07      1.0        1.0          NaN   \n",
       "641136   NaN    2013-09-07    2013-09-07     74.0        1.0         14.0   \n",
       "641137   NaN    2013-09-07           NaN      NaN        1.0          NaN   \n",
       "\n",
       "        nchapters  nforum_posts  roles  incomplete_flag  \n",
       "0             NaN             0    NaN              1.0  \n",
       "1             1.0             0    NaN              1.0  \n",
       "2             NaN             0    NaN              1.0  \n",
       "3             NaN             0    NaN              1.0  \n",
       "4             NaN             0    NaN              1.0  \n",
       "...           ...           ...    ...              ...  \n",
       "641133        2.0             0    NaN              NaN  \n",
       "641134        NaN             0    NaN              NaN  \n",
       "641135        NaN             0    NaN              NaN  \n",
       "641136        1.0             0    NaN              NaN  \n",
       "641137        NaN             0    NaN              1.0  \n",
       "\n",
       "[641138 rows x 20 columns]"
      ]
     },
     "execution_count": 3,
     "metadata": {},
     "output_type": "execute_result"
    }
   ],
   "source": [
    "data1"
   ]
  },
  {
   "cell_type": "code",
   "execution_count": 4,
   "id": "5859b555",
   "metadata": {},
   "outputs": [],
   "source": [
    "#Data Explorarty\n",
    "\"\"\"Important Features\n",
    "\n",
    "ages: the binned age of the student.\n",
    "education: the highest level of education attained by the student.\n",
    "subject: the subject of the course.\n",
    "final_cc_cname: the country of origin of the student.\n",
    "gender: the gender of the participant.\n",
    "course: the actual name of the course.\"\"\"\n",
    "data1['target'] = data1.explored | data1.certified"
   ]
  },
  {
   "cell_type": "code",
   "execution_count": 5,
   "id": "150696a9",
   "metadata": {},
   "outputs": [
    {
     "name": "stderr",
     "output_type": "stream",
     "text": [
      "C:\\Users\\User\\AppData\\Local\\Programs\\Python\\Python39\\lib\\site-packages\\seaborn\\_decorators.py:36: FutureWarning: Pass the following variable as a keyword arg: x. From version 0.12, the only valid positional argument will be `data`, and passing other arguments without an explicit keyword will result in an error or misinterpretation.\n",
      "  warnings.warn(\n"
     ]
    },
    {
     "data": {
      "image/png": "[encoded data removed]",
      "text/plain": [
       "<Figure size 576x360 with 1 Axes>"
      ]
     },
     "metadata": {},
     "output_type": "display_data"
    }
   ],
   "source": [
    "# Target variable distribution\n",
    "sns.set_style('darkgrid')\n",
    "plt.figure(figsize=(8, 5))\n",
    "sns.countplot(data1[\"target\"])\n",
    "plt.title('Target variable distribution')\n",
    "plt.show()"
   ]
  },
  {
   "cell_type": "code",
   "execution_count": 6,
   "id": "5cd620fc",
   "metadata": {},
   "outputs": [
    {
     "data": {
      "image/png": "[encoded data removed]",
      "text/plain": [
       "<Figure size 648x720 with 1 Axes>"
      ]
     },
     "metadata": {},
     "output_type": "display_data"
    }
   ],
   "source": [
    "# Plot missing values in train set\n",
    "ax =data1.isna().sum().sort_values().plot(kind = 'barh', figsize = (9, 10))\n",
    "plt.title('Percentage of Missing Values Per Column in Train Set', fontdict={'size':15})\n",
    "for p in ax.patches:\n",
    "    percentage ='{:,.0f}%'.format((p.get_width()/data1.shape[0])*100)\n",
    "    width, height =p.get_width(),p.get_height()\n",
    "    x=p.get_x()+width+0.02\n",
    "    y=p.get_y()+height/2\n",
    "    ax.annotate(percentage,(x,y))"
   ]
  },
  {
   "cell_type": "code",
   "execution_count": 7,
   "id": "562ac13d",
   "metadata": {},
   "outputs": [
    {
     "data": {
      "image/png": "[encoded data removed]",
      "text/plain": [
       "<Figure size 1008x504 with 1 Axes>"
      ]
     },
     "metadata": {},
     "output_type": "display_data"
    }
   ],
   "source": [
    "# Datetime month countplot\n",
    "plt.figure(figsize = (14, 7))\n",
    "sns.countplot(x = 'YoB', data = data1)\n",
    "plt.title('Datetime month count plot')\n",
    "plt.show()"
   ]
  },
  {
   "cell_type": "code",
   "execution_count": 8,
   "id": "50f142a4",
   "metadata": {},
   "outputs": [],
   "source": [
    "#Drop coloumns with high NA rates and less important features\n",
    "data1.drop(columns = ['roles','grade', \\\n",
    "                             'nevents', 'nplay_video', 'incomplete_flag', \\\n",
    "                            'nchapters', 'registered'], axis = 1, inplace = True)\n"
   ]
  },
  {
   "cell_type": "code",
   "execution_count": 9,
   "id": "2944f9f1",
   "metadata": {},
   "outputs": [],
   "source": [
    "#Get rid of missing values\n",
    "data1 = data1.dropna()"
   ]
  },
  {
   "cell_type": "code",
   "execution_count": 10,
   "id": "40153d16",
   "metadata": {},
   "outputs": [],
   "source": [
    "#we don't need 'Other' in gender\n",
    "data1 = data1[data1.gender!='o']"
   ]
  },
  {
   "cell_type": "code",
   "execution_count": 11,
   "id": "1c8a23c5",
   "metadata": {},
   "outputs": [],
   "source": [
    "#Reset index after we drop missing values\n",
    "data1.set_index(np.arange(len(data1)), inplace = True)"
   ]
  },
  {
   "cell_type": "code",
   "execution_count": 12,
   "id": "c9d719ce",
   "metadata": {},
   "outputs": [],
   "source": [
    "#Difference between first and last date to login\n",
    "\n",
    "data1['month_started'] = data1.start_time_DI.apply(lambda x: x.split('-')[1])\n"
   ]
  },
  {
   "cell_type": "code",
   "execution_count": 13,
   "id": "add748b3",
   "metadata": {},
   "outputs": [],
   "source": [
    "#don't include 70s and older in order to avoid multicollinearity\n",
    "data1['>=70'] = np.where(data1.YoB <=1953, 1, 0)\n",
    "data1['60s'] = np.where((data1.YoB > 1953) & (data1.YoB <= 1963), 1, 0)\n",
    "data1['50s'] = np.where((data1.YoB > 1963) & (data1.YoB <= 1973), 1, 0)\n",
    "data1['40s'] = np.where((data1.YoB > 1973) & (data1.YoB <= 1983), 1, 0)\n",
    "data1['30s'] = np.where((data1.YoB > 1983) & (data1.YoB <= 1993), 1, 0)\n",
    "data1['25_to_30'] = np.where((data1.YoB > 1993) & (data1.YoB <= 1998), 1, 0)\n",
    "data1['20_to_25'] = np.where((data1.YoB > 1998) & (data1.YoB <= 2003), 1, 0)\n",
    "data1['under_20'] = (np.where(data1.YoB > 2003, 1, 0))\n",
    "data1.drop(columns=['YoB'], inplace=True)"
   ]
  },
  {
   "cell_type": "code",
   "execution_count": 14,
   "id": "9d9c26eb",
   "metadata": {
    "scrolled": true
   },
   "outputs": [],
   "source": [
    "data1['last_event_DI'] = pd.to_datetime(data1['last_event_DI'])\n",
    "data1['start_time_DI'] = pd.to_datetime(data1['start_time_DI'])\n",
    "\n",
    "data1['last-start']=data1['last_event_DI']-data1['start_time_DI']\n",
    "data1.drop(columns = ['start_time_DI'], inplace=True)"
   ]
  },
  {
   "cell_type": "code",
   "execution_count": 15,
   "id": "fad2a372",
   "metadata": {},
   "outputs": [
    {
     "data": {
      "text/plain": [
       "0        368 days\n",
       "1        153 days\n",
       "2        247 days\n",
       "3        356 days\n",
       "4         32 days\n",
       "           ...   \n",
       "373381     0 days\n",
       "373382     0 days\n",
       "373383     0 days\n",
       "373384     0 days\n",
       "373385     0 days\n",
       "Name: last-start, Length: 373386, dtype: timedelta64[ns]"
      ]
     },
     "execution_count": 15,
     "metadata": {},
     "output_type": "execute_result"
    }
   ],
   "source": [
    "def splitdate(x):\n",
    "    return x.split('')[0]\n",
    "data1['last-start'] = data1['last-start'].tolist()\n",
    "#data1['last-start'] = data1['last-start'].apply(lambda x: )\n",
    "data1['last-start']"
   ]
  },
  {
   "cell_type": "code",
   "execution_count": 16,
   "id": "5fb84a62",
   "metadata": {},
   "outputs": [],
   "source": [
    "data1 =  pd.get_dummies(data1,\\\n",
    "        columns = [ 'final_cc_cname_DI', 'LoE_DI','gender'\\\n",
    "                   ,'month_started'])\\\n",
    "                  .drop(columns = ['gender_m'])"
   ]
  },
  {
   "cell_type": "code",
   "execution_count": 17,
   "id": "30a71977",
   "metadata": {},
   "outputs": [],
   "source": [
    "#viewed is 1 in every single row, carries no additional information\n",
    "data1.drop(columns = ['viewed'], axis = 1, inplace = True)"
   ]
  },
  {
   "cell_type": "code",
   "execution_count": 18,
   "id": "1a9d4604",
   "metadata": {},
   "outputs": [],
   "source": [
    "data1.drop(columns = ['userid_DI', 'course_id','certified','explored'], inplace = True)\n",
    "data1.drop(columns = ['last_event_DI'], inplace = True)\n",
    "data1.to_csv('data/mydata.csv')"
   ]
  },
  {
   "cell_type": "code",
   "execution_count": 165,
   "id": "66c27487",
   "metadata": {
    "scrolled": true
   },
   "outputs": [],
   "source": [
    "#We will try to handle the imbalance dataset\n"
   ]
  },
  {
   "cell_type": "markdown",
   "id": "d53997a8",
   "metadata": {},
   "source": [
    "# Modeling"
   ]
  },
  {
   "cell_type": "code",
   "execution_count": 20,
   "id": "71522578",
   "metadata": {},
   "outputs": [],
   "source": [
    "import tensorflow as tf\n",
    "from tensorflow import keras\n",
    "\n",
    "import os\n",
    "import tempfile\n",
    "\n",
    "import matplotlib as mpl\n",
    "import matplotlib.pyplot as plt\n",
    "import numpy as np\n",
    "import pandas as pd\n",
    "import seaborn as sns\n",
    "\n",
    "import sklearn\n",
    "from sklearn.metrics import confusion_matrix\n",
    "from sklearn.model_selection import train_test_split\n",
    "from sklearn.preprocessing import StandardScaler\n",
    "\n",
    "mpl.rcParams['figure.figsize'] = (12, 10)\n",
    "colors = plt.rcParams['axes.prop_cycle'].by_key()['color']"
   ]
  },
  {
   "cell_type": "code",
   "execution_count": 8,
   "id": "01bfdec3",
   "metadata": {},
   "outputs": [],
   "source": [
    "# Load files\n",
    "df = pd.read_csv('data/mydata.csv')"
   ]
  },
  {
   "cell_type": "code",
   "execution_count": 10,
   "id": "64bd0cbb",
   "metadata": {},
   "outputs": [
    {
     "data": {
      "text/plain": [
       "Index(['Unnamed: 0', 'ndays_act', 'nforum_posts', 'target', '>=70', '60s',\n",
       "       '50s', '40s', '30s', '25_to_30', '20_to_25', 'under_20', 'last-start',\n",
       "       'final_cc_cname_DI_Australia', 'final_cc_cname_DI_Bangladesh',\n",
       "       'final_cc_cname_DI_Brazil', 'final_cc_cname_DI_Canada',\n",
       "       'final_cc_cname_DI_China', 'final_cc_cname_DI_Colombia',\n",
       "       'final_cc_cname_DI_Egypt', 'final_cc_cname_DI_France',\n",
       "       'final_cc_cname_DI_Germany', 'final_cc_cname_DI_Greece',\n",
       "       'final_cc_cname_DI_India', 'final_cc_cname_DI_Indonesia',\n",
       "       'final_cc_cname_DI_Japan', 'final_cc_cname_DI_Mexico',\n",
       "       'final_cc_cname_DI_Morocco', 'final_cc_cname_DI_Nigeria',\n",
       "       'final_cc_cname_DI_Other Africa', 'final_cc_cname_DI_Other East Asia',\n",
       "       'final_cc_cname_DI_Other Europe',\n",
       "       'final_cc_cname_DI_Other Middle East/Central Asia',\n",
       "       'final_cc_cname_DI_Other North & Central Amer., Caribbean',\n",
       "       'final_cc_cname_DI_Other Oceania',\n",
       "       'final_cc_cname_DI_Other South America',\n",
       "       'final_cc_cname_DI_Other South Asia', 'final_cc_cname_DI_Pakistan',\n",
       "       'final_cc_cname_DI_Philippines', 'final_cc_cname_DI_Poland',\n",
       "       'final_cc_cname_DI_Portugal', 'final_cc_cname_DI_Russian Federation',\n",
       "       'final_cc_cname_DI_Spain', 'final_cc_cname_DI_Ukraine',\n",
       "       'final_cc_cname_DI_United Kingdom', 'final_cc_cname_DI_United States',\n",
       "       'final_cc_cname_DI_Unknown/Other', 'LoE_DI_Bachelor's',\n",
       "       'LoE_DI_Doctorate', 'LoE_DI_Less than Secondary', 'LoE_DI_Master's',\n",
       "       'LoE_DI_Secondary', 'gender_f', 'month_started_01', 'month_started_02',\n",
       "       'month_started_03', 'month_started_04', 'month_started_05',\n",
       "       'month_started_06', 'month_started_07', 'month_started_08',\n",
       "       'month_started_09', 'month_started_10', 'month_started_11',\n",
       "       'month_started_12'],\n",
       "      dtype='object')"
      ]
     },
     "execution_count": 10,
     "metadata": {},
     "output_type": "execute_result"
    }
   ],
   "source": [
    "df.columns"
   ]
  },
  {
   "cell_type": "code",
   "execution_count": 32,
   "id": "c9379116",
   "metadata": {},
   "outputs": [],
   "source": [
    "df['last-start']=df['last-start'].map(lambda x : x.split(' ')[0])"
   ]
  },
  {
   "cell_type": "code",
   "execution_count": 33,
   "id": "fce193bd",
   "metadata": {},
   "outputs": [],
   "source": [
    "df['last-start'] = pd.to_numeric(df['last-start'])"
   ]
  },
  {
   "cell_type": "code",
   "execution_count": 39,
   "id": "e3b4bdfa",
   "metadata": {},
   "outputs": [],
   "source": [
    "# Use a utility from sklearn to split and shuffle your dataset.\n",
    "train_df, test_df = train_test_split(df, test_size=0.2)\n",
    "train_df, val_df = train_test_split(train_df, test_size=0.2)\n",
    "\n",
    "\n",
    "# Form np arrays of labels and features.\n",
    "train_labels = np.array(train_df.pop('target'))\n",
    "val_labels = np.array(val_df.pop('target'))\n",
    "test_labels = np.array(test_df.pop('target'))"
   ]
  },
  {
   "cell_type": "code",
   "execution_count": 35,
   "id": "0c513a13",
   "metadata": {},
   "outputs": [
    {
     "name": "stdout",
     "output_type": "stream",
     "text": [
      "Training features shape: (238966, 65)\n",
      "Validation features shape: (59742, 65)\n",
      "Test features shape: (74678, 65)\n"
     ]
    }
   ],
   "source": [
    "train_features = np.array(train_df)\n",
    "val_features = np.array(val_df)\n",
    "test_features = np.array(test_df)\n",
    "print('Training features shape:', train_features.shape)\n",
    "print('Validation features shape:', val_features.shape)\n",
    "print('Test features shape:', test_features.shape)"
   ]
  },
  {
   "cell_type": "code",
   "execution_count": 36,
   "id": "e880e93b",
   "metadata": {},
   "outputs": [],
   "source": [
    "METRICS = [\n",
    "      keras.metrics.TruePositives(name='tp'),\n",
    "      keras.metrics.FalsePositives(name='fp'),\n",
    "      keras.metrics.TrueNegatives(name='tn'),\n",
    "      keras.metrics.FalseNegatives(name='fn'), \n",
    "      keras.metrics.BinaryAccuracy(name='accuracy'),\n",
    "      keras.metrics.Precision(name='precision'),\n",
    "      keras.metrics.Recall(name='recall'),\n",
    "      keras.metrics.AUC(name='auc'),\n",
    "      keras.metrics.AUC(name='prc', curve='PR'), # precision-recall curve\n",
    "]\n",
    "\n",
    "def make_model(metrics=METRICS, output_bias=None):\n",
    "  if output_bias is not None:\n",
    "    output_bias = tf.keras.initializers.Constant(output_bias)\n",
    "  model = keras.Sequential([\n",
    "      keras.layers.Dense(\n",
    "          16, activation='relu',\n",
    "          input_shape=(train_features.shape[-1],)),\n",
    "      keras.layers.Dropout(0.5),\n",
    "      keras.layers.Dense(1, activation='sigmoid',\n",
    "                         bias_initializer=output_bias),\n",
    "  ])\n",
    "\n",
    "  model.compile(\n",
    "      optimizer=keras.optimizers.Adam(learning_rate=1e-3),\n",
    "      loss=keras.losses.BinaryCrossentropy(),\n",
    "      metrics=metrics)\n",
    "\n",
    "  return model"
   ]
  },
  {
   "cell_type": "code",
   "execution_count": 37,
   "id": "5d803936",
   "metadata": {},
   "outputs": [
    {
     "name": "stdout",
     "output_type": "stream",
     "text": [
      "Model: \"sequential_2\"\n",
      "_________________________________________________________________\n",
      " Layer (type)                Output Shape              Param #   \n",
      "=================================================================\n",
      " dense_4 (Dense)             (None, 16)                1056      \n",
      "                                                                 \n",
      " dropout_2 (Dropout)         (None, 16)                0         \n",
      "                                                                 \n",
      " dense_5 (Dense)             (None, 1)                 17        \n",
      "                                                                 \n",
      "=================================================================\n",
      "Total params: 1,073\n",
      "Trainable params: 1,073\n",
      "Non-trainable params: 0\n",
      "_________________________________________________________________\n"
     ]
    }
   ],
   "source": [
    "EPOCHS = 100\n",
    "BATCH_SIZE = 2048\n",
    "\n",
    "early_stopping = tf.keras.callbacks.EarlyStopping(\n",
    "    monitor='val_prc', \n",
    "    verbose=1,\n",
    "    patience=10,\n",
    "    mode='max',\n",
    "    restore_best_weights=True)\n",
    "\n",
    "\n",
    "model = make_model()\n",
    "model.summary()"
   ]
  },
  {
   "cell_type": "code",
   "execution_count": 42,
   "id": "f01d23a2",
   "metadata": {},
   "outputs": [
    {
     "data": {
      "text/plain": [
       "array([[1.],\n",
       "       [1.],\n",
       "       [1.],\n",
       "       [1.],\n",
       "       [1.],\n",
       "       [1.],\n",
       "       [1.],\n",
       "       [1.],\n",
       "       [1.],\n",
       "       [1.]], dtype=float32)"
      ]
     },
     "execution_count": 42,
     "metadata": {},
     "output_type": "execute_result"
    }
   ],
   "source": [
    "#df['last-start'].astype(str).astype(int)\n",
    "train_features = np.asarray(train_features).astype(np.float32)\n",
    "model.predict(train_features[:10])"
   ]
  },
  {
   "cell_type": "code",
   "execution_count": 43,
   "id": "3e8557fe",
   "metadata": {},
   "outputs": [],
   "source": [
    "initial_weights = os.path.join(tempfile.mkdtemp(), 'initial_weights')\n",
    "model.save_weights(initial_weights)"
   ]
  },
  {
   "cell_type": "code",
   "execution_count": 44,
   "id": "b2be6d0b",
   "metadata": {},
   "outputs": [],
   "source": [
    "model = make_model()\n",
    "model.load_weights(initial_weights)\n",
    "careful_bias_history = model.fit(\n",
    "    train_features,\n",
    "    train_labels,\n",
    "    batch_size=BATCH_SIZE,\n",
    "    epochs=20,\n",
    "    validation_data=(val_features, val_labels), \n",
    "    verbose=0)"
   ]
  },
  {
   "cell_type": "code",
   "execution_count": 45,
   "id": "74665166",
   "metadata": {},
   "outputs": [
    {
     "ename": "NameError",
     "evalue": "name 'zero_bias_history' is not defined",
     "output_type": "error",
     "traceback": [
      "\u001b[1;31m---------------------------------------------------------------------------\u001b[0m",
      "\u001b[1;31mNameError\u001b[0m                                 Traceback (most recent call last)",
      "Input \u001b[1;32mIn [45]\u001b[0m, in \u001b[0;36m<cell line: 11>\u001b[1;34m()\u001b[0m\n\u001b[0;32m      8\u001b[0m   plt\u001b[38;5;241m.\u001b[39mxlabel(\u001b[38;5;124m'\u001b[39m\u001b[38;5;124mEpoch\u001b[39m\u001b[38;5;124m'\u001b[39m)\n\u001b[0;32m      9\u001b[0m   plt\u001b[38;5;241m.\u001b[39mylabel(\u001b[38;5;124m'\u001b[39m\u001b[38;5;124mLoss\u001b[39m\u001b[38;5;124m'\u001b[39m)\n\u001b[1;32m---> 11\u001b[0m plot_loss(\u001b[43mzero_bias_history\u001b[49m, \u001b[38;5;124m\"\u001b[39m\u001b[38;5;124mZero Bias\u001b[39m\u001b[38;5;124m\"\u001b[39m, \u001b[38;5;241m0\u001b[39m)\n\u001b[0;32m     12\u001b[0m plot_loss(careful_bias_history, \u001b[38;5;124m\"\u001b[39m\u001b[38;5;124mCareful Bias\u001b[39m\u001b[38;5;124m\"\u001b[39m, \u001b[38;5;241m1\u001b[39m)\n",
      "\u001b[1;31mNameError\u001b[0m: name 'zero_bias_history' is not defined"
     ]
    }
   ],
   "source": [
    "def plot_loss(history, label, n):\n",
    "  # Use a log scale on y-axis to show the wide range of values.\n",
    "  plt.semilogy(history.epoch, history.history['loss'],\n",
    "               color=colors[n], label='Train ' + label)\n",
    "  plt.semilogy(history.epoch, history.history['val_loss'],\n",
    "               color=colors[n], label='Val ' + label,\n",
    "               linestyle=\"--\")\n",
    "  plt.xlabel('Epoch')\n",
    "  plt.ylabel('Loss')\n",
    "\n",
    "plot_loss(zero_bias_history, \"Zero Bias\", 0)\n",
    "plot_loss(careful_bias_history, \"Careful Bias\", 1)"
   ]
  },
  {
   "cell_type": "code",
   "execution_count": 46,
   "id": "090aff35",
   "metadata": {},
   "outputs": [
    {
     "name": "stdout",
     "output_type": "stream",
     "text": [
      "Epoch 1/100\n",
      "117/117 [==============================] - 4s 17ms/step - loss: 7215.0122 - tp: 5927.0000 - fp: 66702.0000 - tn: 208056.0000 - fn: 18023.0000 - accuracy: 0.7164 - precision: 0.0816 - recall: 0.2475 - auc: 0.5021 - prc: 0.0808 - val_loss: 1418.3572 - val_tp: 0.0000e+00 - val_fp: 0.0000e+00 - val_tn: 54982.0000 - val_fn: 4760.0000 - val_accuracy: 0.9203 - val_precision: 0.0000e+00 - val_recall: 0.0000e+00 - val_auc: 0.5000 - val_prc: 0.0797\n",
      "Epoch 2/100\n",
      "117/117 [==============================] - 0s 3ms/step - loss: 2307.9619 - tp: 3002.0000 - fp: 33149.0000 - tn: 186627.0000 - fn: 16188.0000 - accuracy: 0.7935 - precision: 0.0830 - recall: 0.1564 - auc: 0.5038 - prc: 0.0814 - val_loss: 911.3420 - val_tp: 0.0000e+00 - val_fp: 0.0000e+00 - val_tn: 54982.0000 - val_fn: 4760.0000 - val_accuracy: 0.9203 - val_precision: 0.0000e+00 - val_recall: 0.0000e+00 - val_auc: 0.5000 - val_prc: 0.0797\n",
      "Epoch 3/100\n",
      "117/117 [==============================] - 0s 3ms/step - loss: 1071.2023 - tp: 2213.0000 - fp: 24930.0000 - tn: 194846.0000 - fn: 16977.0000 - accuracy: 0.8246 - precision: 0.0815 - recall: 0.1153 - auc: 0.5000 - prc: 0.0805 - val_loss: 334.9303 - val_tp: 0.0000e+00 - val_fp: 0.0000e+00 - val_tn: 54982.0000 - val_fn: 4760.0000 - val_accuracy: 0.9203 - val_precision: 0.0000e+00 - val_recall: 0.0000e+00 - val_auc: 0.4999 - val_prc: 0.0796\n",
      "Epoch 4/100\n",
      "117/117 [==============================] - 1s 9ms/step - loss: 221.6654 - tp: 1453.0000 - fp: 17441.0000 - tn: 202335.0000 - fn: 17737.0000 - accuracy: 0.8528 - precision: 0.0769 - recall: 0.0757 - auc: 0.4985 - prc: 0.0798 - val_loss: 41.1921 - val_tp: 0.0000e+00 - val_fp: 0.0000e+00 - val_tn: 54982.0000 - val_fn: 4760.0000 - val_accuracy: 0.9203 - val_precision: 0.0000e+00 - val_recall: 0.0000e+00 - val_auc: 0.5002 - val_prc: 0.0799\n",
      "Epoch 5/100\n",
      "117/117 [==============================] - 1s 8ms/step - loss: 18.1655 - tp: 40.0000 - fp: 410.0000 - tn: 219366.0000 - fn: 19150.0000 - accuracy: 0.9181 - precision: 0.0889 - recall: 0.0021 - auc: 0.4999 - prc: 0.0802 - val_loss: 0.7187 - val_tp: 0.0000e+00 - val_fp: 0.0000e+00 - val_tn: 54982.0000 - val_fn: 4760.0000 - val_accuracy: 0.9203 - val_precision: 0.0000e+00 - val_recall: 0.0000e+00 - val_auc: 0.4996 - val_prc: 0.0794\n",
      "Epoch 6/100\n",
      "117/117 [==============================] - 0s 3ms/step - loss: 0.3533 - tp: 28.0000 - fp: 206.0000 - tn: 219570.0000 - fn: 19162.0000 - accuracy: 0.9190 - precision: 0.1197 - recall: 0.0015 - auc: 0.5042 - prc: 0.0814 - val_loss: 0.3072 - val_tp: 0.0000e+00 - val_fp: 0.0000e+00 - val_tn: 54982.0000 - val_fn: 4760.0000 - val_accuracy: 0.9203 - val_precision: 0.0000e+00 - val_recall: 0.0000e+00 - val_auc: 0.4993 - val_prc: 0.0797\n",
      "Epoch 7/100\n",
      "117/117 [==============================] - 0s 3ms/step - loss: 0.3378 - tp: 20.0000 - fp: 165.0000 - tn: 219611.0000 - fn: 19170.0000 - accuracy: 0.9191 - precision: 0.1081 - recall: 0.0010 - auc: 0.5011 - prc: 0.0805 - val_loss: 0.3004 - val_tp: 0.0000e+00 - val_fp: 0.0000e+00 - val_tn: 54982.0000 - val_fn: 4760.0000 - val_accuracy: 0.9203 - val_precision: 0.0000e+00 - val_recall: 0.0000e+00 - val_auc: 0.4987 - val_prc: 0.0795\n",
      "Epoch 8/100\n",
      "117/117 [==============================] - 0s 3ms/step - loss: 0.3268 - tp: 21.0000 - fp: 137.0000 - tn: 219639.0000 - fn: 19169.0000 - accuracy: 0.9192 - precision: 0.1329 - recall: 0.0011 - auc: 0.5027 - prc: 0.0806 - val_loss: 0.2939 - val_tp: 0.0000e+00 - val_fp: 0.0000e+00 - val_tn: 54982.0000 - val_fn: 4760.0000 - val_accuracy: 0.9203 - val_precision: 0.0000e+00 - val_recall: 0.0000e+00 - val_auc: 0.4991 - val_prc: 0.0797\n",
      "Epoch 9/100\n",
      "117/117 [==============================] - 0s 3ms/step - loss: 0.3201 - tp: 13.0000 - fp: 119.0000 - tn: 219657.0000 - fn: 19177.0000 - accuracy: 0.9193 - precision: 0.0985 - recall: 6.7744e-04 - auc: 0.4997 - prc: 0.0804 - val_loss: 0.3024 - val_tp: 0.0000e+00 - val_fp: 0.0000e+00 - val_tn: 54982.0000 - val_fn: 4760.0000 - val_accuracy: 0.9203 - val_precision: 0.0000e+00 - val_recall: 0.0000e+00 - val_auc: 0.4989 - val_prc: 0.0797\n",
      "Epoch 10/100\n",
      "117/117 [==============================] - 0s 3ms/step - loss: 0.3130 - tp: 7.0000 - fp: 103.0000 - tn: 219673.0000 - fn: 19183.0000 - accuracy: 0.9193 - precision: 0.0636 - recall: 3.6477e-04 - auc: 0.5010 - prc: 0.0805 - val_loss: 0.2953 - val_tp: 0.0000e+00 - val_fp: 0.0000e+00 - val_tn: 54982.0000 - val_fn: 4760.0000 - val_accuracy: 0.9203 - val_precision: 0.0000e+00 - val_recall: 0.0000e+00 - val_auc: 0.4990 - val_prc: 0.0796\n",
      "Epoch 11/100\n",
      "117/117 [==============================] - 0s 3ms/step - loss: 0.3103 - tp: 7.0000 - fp: 55.0000 - tn: 219721.0000 - fn: 19183.0000 - accuracy: 0.9195 - precision: 0.1129 - recall: 3.6477e-04 - auc: 0.5022 - prc: 0.0813 - val_loss: 0.2926 - val_tp: 0.0000e+00 - val_fp: 0.0000e+00 - val_tn: 54982.0000 - val_fn: 4760.0000 - val_accuracy: 0.9203 - val_precision: 0.0000e+00 - val_recall: 0.0000e+00 - val_auc: 0.4990 - val_prc: 0.0796\n",
      "Epoch 12/100\n",
      "117/117 [==============================] - 0s 3ms/step - loss: 0.5229 - tp: 285.0000 - fp: 3690.0000 - tn: 216086.0000 - fn: 18905.0000 - accuracy: 0.9054 - precision: 0.0717 - recall: 0.0149 - auc: 0.4990 - prc: 0.0800 - val_loss: 0.4404 - val_tp: 0.0000e+00 - val_fp: 0.0000e+00 - val_tn: 54982.0000 - val_fn: 4760.0000 - val_accuracy: 0.9203 - val_precision: 0.0000e+00 - val_recall: 0.0000e+00 - val_auc: 0.5005 - val_prc: 0.0796\n",
      "Epoch 13/100\n",
      "117/117 [==============================] - 0s 3ms/step - loss: 0.4887 - tp: 342.0000 - fp: 4129.0000 - tn: 215647.0000 - fn: 18848.0000 - accuracy: 0.9038 - precision: 0.0765 - recall: 0.0178 - auc: 0.4959 - prc: 0.0793 - val_loss: 0.2955 - val_tp: 0.0000e+00 - val_fp: 0.0000e+00 - val_tn: 54982.0000 - val_fn: 4760.0000 - val_accuracy: 0.9203 - val_precision: 0.0000e+00 - val_recall: 0.0000e+00 - val_auc: 0.4989 - val_prc: 0.0797\n",
      "Epoch 14/100\n",
      "104/117 [=========================>....] - ETA: 0s - loss: 0.2966 - tp: 3.0000 - fp: 18.0000 - tn: 195900.0000 - fn: 17071.0000 - accuracy: 0.9198 - precision: 0.1429 - recall: 1.7571e-04 - auc: 0.5050 - prc: 0.0811  Restoring model weights from the end of the best epoch: 4.\n",
      "117/117 [==============================] - 0s 3ms/step - loss: 0.2976 - tp: 3.0000 - fp: 19.0000 - tn: 219757.0000 - fn: 19187.0000 - accuracy: 0.9196 - precision: 0.1364 - recall: 1.5633e-04 - auc: 0.5043 - prc: 0.0809 - val_loss: 0.2876 - val_tp: 0.0000e+00 - val_fp: 0.0000e+00 - val_tn: 54982.0000 - val_fn: 4760.0000 - val_accuracy: 0.9203 - val_precision: 0.0000e+00 - val_recall: 0.0000e+00 - val_auc: 0.4986 - val_prc: 0.0796\n",
      "Epoch 14: early stopping\n"
     ]
    }
   ],
   "source": [
    "model = make_model()\n",
    "model.load_weights(initial_weights)\n",
    "baseline_history = model.fit(\n",
    "    train_features,\n",
    "    train_labels,\n",
    "    batch_size=BATCH_SIZE,\n",
    "    epochs=EPOCHS,\n",
    "    callbacks=[early_stopping],\n",
    "    validation_data=(val_features, val_labels))"
   ]
  },
  {
   "cell_type": "code",
   "execution_count": 49,
   "id": "a63ffe4f",
   "metadata": {},
   "outputs": [
    {
     "data": {
      "image/png": "[encoded data removed]",
      "text/plain": [
       "<Figure size 864x720 with 4 Axes>"
      ]
     },
     "metadata": {
      "needs_background": "light"
     },
     "output_type": "display_data"
    }
   ],
   "source": [
    "def plot_metrics(history):\n",
    "  metrics = ['loss', 'prc', 'precision', 'recall']\n",
    "  for n, metric in enumerate(metrics):\n",
    "    name = metric.replace(\"_\",\" \").capitalize()\n",
    "    plt.subplot(2,2,n+1)\n",
    "    plt.plot(history.epoch, history.history[metric], color=colors[0], label='Train')\n",
    "    plt.plot(history.epoch, history.history['val_'+metric],\n",
    "             color=colors[0], linestyle=\"--\", label='Val')\n",
    "    plt.xlabel('Epoch')\n",
    "    plt.ylabel(name)\n",
    "    if metric == 'loss':\n",
    "      plt.ylim([0, plt.ylim()[1]])\n",
    "    elif metric == 'auc':\n",
    "      plt.ylim([0.8,1])\n",
    "    else:\n",
    "      plt.ylim([0,1])\n",
    "\n",
    "    plt.legend();\n",
    "\n",
    "plot_metrics(baseline_history)"
   ]
  }
 ],
 "metadata": {
  "celltoolbar": "Éditer les Méta-Données",
  "kernelspec": {
   "display_name": "Python 3 (ipykernel)",
   "language": "python",
   "name": "python3"
  },
  "language_info": {
   "codemirror_mode": {
    "name": "ipython",
    "version": 3
   },
   "file_extension": ".py",
   "mimetype": "text/x-python",
   "name": "python",
   "nbconvert_exporter": "python",
   "pygments_lexer": "ipython3",
   "version": "3.9.10"
  }
 },
 "nbformat": 4,
 "nbformat_minor": 5
}
