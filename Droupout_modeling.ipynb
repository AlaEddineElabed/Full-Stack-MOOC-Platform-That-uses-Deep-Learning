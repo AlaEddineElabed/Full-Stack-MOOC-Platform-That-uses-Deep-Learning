{
 "cells": [
  {
   "cell_type": "code",
   "execution_count": 1,
   "metadata": {},
   "outputs": [],
   "source": [
    "import pandas as pd\n",
    "import numpy  as np\n",
    "import matplotlib.pyplot as plt\n",
    "import seaborn as sns\n",
    "import tensorflow as tf\n",
    "from sklearn.model_selection import train_test_split\n",
    "from sklearn.metrics import accuracy_score"
   ]
  },
  {
   "cell_type": "code",
   "execution_count": 38,
   "metadata": {},
   "outputs": [
    {
     "name": "stdout",
     "output_type": "stream",
     "text": [
      "<class 'pandas.core.frame.DataFrame'>\n",
      "Int64Index: 274040 entries, 0 to 274039\n",
      "Data columns (total 51 columns):\n",
      " #   Column                                                    Non-Null Count   Dtype\n",
      "---  ------                                                    --------------   -----\n",
      " 0   YoB                                                       274040 non-null  int64\n",
      " 1   explored/cert                                             274040 non-null  int64\n",
      " 2   final_cc_cname_DI_Australia                               274040 non-null  int64\n",
      " 3   final_cc_cname_DI_Bangladesh                              274040 non-null  int64\n",
      " 4   final_cc_cname_DI_Brazil                                  274040 non-null  int64\n",
      " 5   final_cc_cname_DI_Canada                                  274040 non-null  int64\n",
      " 6   final_cc_cname_DI_China                                   274040 non-null  int64\n",
      " 7   final_cc_cname_DI_Colombia                                274040 non-null  int64\n",
      " 8   final_cc_cname_DI_Egypt                                   274040 non-null  int64\n",
      " 9   final_cc_cname_DI_France                                  274040 non-null  int64\n",
      " 10  final_cc_cname_DI_Germany                                 274040 non-null  int64\n",
      " 11  final_cc_cname_DI_Greece                                  274040 non-null  int64\n",
      " 12  final_cc_cname_DI_India                                   274040 non-null  int64\n",
      " 13  final_cc_cname_DI_Indonesia                               274040 non-null  int64\n",
      " 14  final_cc_cname_DI_Japan                                   274040 non-null  int64\n",
      " 15  final_cc_cname_DI_Mexico                                  274040 non-null  int64\n",
      " 16  final_cc_cname_DI_Morocco                                 274040 non-null  int64\n",
      " 17  final_cc_cname_DI_Nigeria                                 274040 non-null  int64\n",
      " 18  final_cc_cname_DI_Other Africa                            274040 non-null  int64\n",
      " 19  final_cc_cname_DI_Other East Asia                         274040 non-null  int64\n",
      " 20  final_cc_cname_DI_Other Europe                            274040 non-null  int64\n",
      " 21  final_cc_cname_DI_Other Middle East/Central Asia          274040 non-null  int64\n",
      " 22  final_cc_cname_DI_Other North & Central Amer., Caribbean  274040 non-null  int64\n",
      " 23  final_cc_cname_DI_Other Oceania                           274040 non-null  int64\n",
      " 24  final_cc_cname_DI_Other South America                     274040 non-null  int64\n",
      " 25  final_cc_cname_DI_Other South Asia                        274040 non-null  int64\n",
      " 26  final_cc_cname_DI_Pakistan                                274040 non-null  int64\n",
      " 27  final_cc_cname_DI_Philippines                             274040 non-null  int64\n",
      " 28  final_cc_cname_DI_Poland                                  274040 non-null  int64\n",
      " 29  final_cc_cname_DI_Portugal                                274040 non-null  int64\n",
      " 30  final_cc_cname_DI_Russian Federation                      274040 non-null  int64\n",
      " 31  final_cc_cname_DI_Spain                                   274040 non-null  int64\n",
      " 32  final_cc_cname_DI_Ukraine                                 274040 non-null  int64\n",
      " 33  final_cc_cname_DI_United Kingdom                          274040 non-null  int64\n",
      " 34  final_cc_cname_DI_United States                           274040 non-null  int64\n",
      " 35  LoE_DI_Bachelor's                                         274040 non-null  int64\n",
      " 36  LoE_DI_Less than Secondary                                274040 non-null  int64\n",
      " 37  LoE_DI_Master's                                           274040 non-null  int64\n",
      " 38  LoE_DI_Secondary                                          274040 non-null  int64\n",
      " 39  month_started_01                                          274040 non-null  int64\n",
      " 40  month_started_02                                          274040 non-null  int64\n",
      " 41  month_started_03                                          274040 non-null  int64\n",
      " 42  month_started_04                                          274040 non-null  int64\n",
      " 43  month_started_05                                          274040 non-null  int64\n",
      " 44  month_started_06                                          274040 non-null  int64\n",
      " 45  month_started_07                                          274040 non-null  int64\n",
      " 46  month_started_08                                          274040 non-null  int64\n",
      " 47  month_started_09                                          274040 non-null  int64\n",
      " 48  month_started_10                                          274040 non-null  int64\n",
      " 49  month_started_12                                          274040 non-null  int64\n",
      " 50  gender_f                                                  274040 non-null  int64\n",
      "dtypes: int64(51)\n",
      "memory usage: 108.7 MB\n"
     ]
    }
   ],
   "source": [
    "# Load file\n",
    "data = pd.read_csv('data/modeling_data_22.csv',index_col=0)\n",
    "data.drop(columns = ['course_id', 'userid_DI','course'], inplace = True)\n",
    "data = data.astype({'YoB': 'int64'})\n",
    "data.info()"
   ]
  },
  {
   "cell_type": "code",
   "execution_count": 39,
   "metadata": {},
   "outputs": [],
   "source": [
    "y = data['explored/cert']\n",
    "X = data.drop(columns=['explored/cert'])"
   ]
  },
  {
   "cell_type": "code",
   "execution_count": 40,
   "metadata": {},
   "outputs": [
    {
     "data": {
      "text/plain": [
       "((274040, 50), (274040,))"
      ]
     },
     "execution_count": 40,
     "metadata": {},
     "output_type": "execute_result"
    }
   ],
   "source": [
    "X.shape, y.shape"
   ]
  },
  {
   "cell_type": "code",
   "execution_count": 41,
   "metadata": {},
   "outputs": [],
   "source": [
    "X_train, X_valid, y_train, y_valid = train_test_split(X, y, stratify=y, train_size=0.7)\n",
    "input_shape = [X_train.shape[1]]"
   ]
  },
  {
   "cell_type": "code",
   "execution_count": 42,
   "metadata": {},
   "outputs": [],
   "source": [
    "model = tf.keras.Sequential([\n",
    "    tf.keras.layers.BatchNormalization(input_shape=input_shape),\n",
    "    tf.keras.layers.Dense(256,activation='relu'),\n",
    "    tf.keras.layers.BatchNormalization(),\n",
    "    tf.keras.layers.Dropout(0.3),\n",
    "    tf.keras.layers.Dense(256,activation='relu'),\n",
    "    tf.keras.layers.BatchNormalization(),\n",
    "    tf.keras.layers.Dropout(0.3),\n",
    "    tf.keras.layers.Dense(1,activation='sigmoid')\n",
    "])"
   ]
  },
  {
   "cell_type": "code",
   "execution_count": 43,
   "metadata": {},
   "outputs": [],
   "source": [
    "model.compile(\n",
    "    optimizer='adam',\n",
    "    loss='binary_crossentropy',\n",
    "    metrics=['binary_accuracy'],\n",
    ")"
   ]
  },
  {
   "cell_type": "code",
   "execution_count": 44,
   "metadata": {},
   "outputs": [
    {
     "name": "stdout",
     "output_type": "stream",
     "text": [
      "Epoch 1/200\n",
      "375/375 [==============================] - 4s 8ms/step - loss: 0.4225 - binary_accuracy: 0.8437 - val_loss: 0.3361 - val_binary_accuracy: 0.8939\n",
      "Epoch 2/200\n",
      "375/375 [==============================] - 3s 8ms/step - loss: 0.3426 - binary_accuracy: 0.8912 - val_loss: 0.3285 - val_binary_accuracy: 0.8939\n",
      "Epoch 3/200\n",
      "375/375 [==============================] - 3s 9ms/step - loss: 0.3339 - binary_accuracy: 0.8930 - val_loss: 0.3261 - val_binary_accuracy: 0.8939\n",
      "Epoch 4/200\n",
      "375/375 [==============================] - 3s 8ms/step - loss: 0.3304 - binary_accuracy: 0.8935 - val_loss: 0.3256 - val_binary_accuracy: 0.8939\n",
      "Epoch 5/200\n",
      "375/375 [==============================] - 3s 8ms/step - loss: 0.3295 - binary_accuracy: 0.8936 - val_loss: 0.3252 - val_binary_accuracy: 0.8939\n",
      "Epoch 6/200\n",
      "375/375 [==============================] - 3s 8ms/step - loss: 0.3279 - binary_accuracy: 0.8937 - val_loss: 0.3265 - val_binary_accuracy: 0.8939\n",
      "Epoch 7/200\n",
      "375/375 [==============================] - 3s 8ms/step - loss: 0.3272 - binary_accuracy: 0.8938 - val_loss: 0.3252 - val_binary_accuracy: 0.8939\n",
      "Epoch 8/200\n",
      "375/375 [==============================] - 3s 8ms/step - loss: 0.3266 - binary_accuracy: 0.8938 - val_loss: 0.3244 - val_binary_accuracy: 0.8939\n",
      "Epoch 9/200\n",
      "375/375 [==============================] - 3s 8ms/step - loss: 0.3264 - binary_accuracy: 0.8938 - val_loss: 0.3244 - val_binary_accuracy: 0.8939\n",
      "Epoch 10/200\n",
      "375/375 [==============================] - 3s 8ms/step - loss: 0.3258 - binary_accuracy: 0.8938 - val_loss: 0.3251 - val_binary_accuracy: 0.8939\n",
      "Epoch 11/200\n",
      "375/375 [==============================] - 3s 8ms/step - loss: 0.3256 - binary_accuracy: 0.8938 - val_loss: 0.3248 - val_binary_accuracy: 0.8939\n",
      "Epoch 12/200\n",
      "375/375 [==============================] - 3s 8ms/step - loss: 0.3251 - binary_accuracy: 0.8939 - val_loss: 0.3243 - val_binary_accuracy: 0.8939\n",
      "Epoch 13/200\n",
      "375/375 [==============================] - 3s 8ms/step - loss: 0.3249 - binary_accuracy: 0.8939 - val_loss: 0.3245 - val_binary_accuracy: 0.8939\n"
     ]
    },
    {
     "data": {
      "text/plain": [
       "<AxesSubplot:title={'center':'Accuracy'}>"
      ]
     },
     "execution_count": 44,
     "metadata": {},
     "output_type": "execute_result"
    },
    {
     "data": {
      "image/png": "[encoded data removed]",
      "text/plain": [
       "<Figure size 432x288 with 1 Axes>"
      ]
     },
     "metadata": {
      "needs_background": "light"
     },
     "output_type": "display_data"
    },
    {
     "data": {
      "image/png": "[encoded data removed]",
      "text/plain": [
       "<Figure size 432x288 with 1 Axes>"
      ]
     },
     "metadata": {
      "needs_background": "light"
     },
     "output_type": "display_data"
    }
   ],
   "source": [
    "early_stopping = tf.keras.callbacks.EarlyStopping(\n",
    "    patience=5,\n",
    "    min_delta=0.001,\n",
    "    restore_best_weights=True,\n",
    ")\n",
    "\n",
    "history = model.fit(\n",
    "    X_train, y_train,\n",
    "    validation_data=(X_valid, y_valid),\n",
    "    batch_size=512,\n",
    "    epochs=200,\n",
    "    callbacks=[early_stopping],\n",
    ")\n",
    "\n",
    "history_df = pd.DataFrame(history.history)\n",
    "history_df.loc[:, ['loss', 'val_loss']].plot(title=\"Cross-entropy\")\n",
    "history_df.loc[:, ['binary_accuracy', 'val_binary_accuracy']].plot(title=\"Accuracy\")"
   ]
  },
  {
   "cell_type": "code",
   "execution_count": 54,
   "metadata": {},
   "outputs": [
    {
     "name": "stdout",
     "output_type": "stream",
     "text": [
      ">0.894\n"
     ]
    }
   ],
   "source": [
    "#evaluate the model\n",
    "yhat = model.predict(X_valid)\n",
    "yhat = yhat.round()\n",
    "acc = accuracy_score(y_valid, yhat)\n",
    "print('>%.3f' % acc)"
   ]
  },
  {
   "cell_type": "code",
   "execution_count": null,
   "metadata": {},
   "outputs": [],
   "source": []
  }
 ],
 "metadata": {
  "interpreter": {
   "hash": "2647ea34e536f865ab67ff9ddee7fd78773d956cec0cab53c79b32cd10da5d83"
  },
  "kernelspec": {
   "display_name": "Python 3.9.10 64-bit",
   "language": "python",
   "name": "python3"
  },
  "language_info": {
   "codemirror_mode": {
    "name": "ipython",
    "version": 3
   },
   "file_extension": ".py",
   "mimetype": "text/x-python",
   "name": "python",
   "nbconvert_exporter": "python",
   "pygments_lexer": "ipython3",
   "version": "3.9.10"
  },
  "orig_nbformat": 4
 },
 "nbformat": 4,
 "nbformat_minor": 2
}
